{
 "cells": [
  {
   "cell_type": "markdown",
   "id": "27dcc75b-bca7-43ed-b556-8afca4291cde",
   "metadata": {},
   "source": [
    "# front end gui app"
   ]
  },
  {
   "cell_type": "code",
   "execution_count": 5,
   "id": "5eeb00a4-79ce-4f78-b77d-083a4022dace",
   "metadata": {},
   "outputs": [],
   "source": [
    "import tkinter as tk \n",
    "\n",
    "# function to called when button is clicked\n",
    "def on_button_click():\n",
    "    label.config(text = 'Button clicked')\n",
    "\n",
    "#create the main application window \n",
    "root = tk.Tk()\n",
    "root.title('Simple tkinter app')\n",
    "\n",
    "#create label widget\n",
    "label = tk.label(root, text ='hello Tkinter')\n",
    "label.pack(pady=20)\n",
    "\n",
    "# button creation \n",
    "button = tk.Button(root, text = 'CLck me ', command = on_button_click)\n",
    "button.pack(pady=20)\n",
    "\n",
    "root.mainloop()"
   ]
  },
  {
   "cell_type": "code",
   "execution_count": 6,
   "id": "63735886-5df9-4633-85d0-6d8f2008c4ab",
   "metadata": {},
   "outputs": [],
   "source": [
    "from tkinter import *\n",
    "import random, string\n",
    "import pyperclip\n",
    "\n",
    "root = Tk()\n",
    "root.geometry(\"400x400\")\n",
    "root.resizable(0,0)\n",
    "root.title(\"PYTHON PROJECT  - PASSWORD GENERATOR\")\n",
    "\n",
    "Label(root, text='PASSWORD GENERATOR', font='arial 15 bold').pack()\n",
    "Label(root, text='Python', font='arial 15 bold').pack(side=BOTTOM)\n",
    "\n",
    "pass_label = Label(root, text='PASSWORD LENGTH', font='arial 10 bold').pack()\n",
    "pass_len = IntVar()\n",
    "length = Spinbox(root, from_=8, to_=32, textvariable=pass_len, width=15).pack()\n",
    "pass_str = StringVar()\n",
    "\n",
    "def Generator():\n",
    "    password = []\n",
    "    \n",
    "    # Ensuring at least one character from each type (Uppercase, Lowercase, Digits, Punctuation)\n",
    "    if pass_len.get() >= 4:\n",
    "        password.append(random.choice(string.ascii_uppercase))\n",
    "        password.append(random.choice(string.ascii_lowercase))\n",
    "        password.append(random.choice(string.digits))\n",
    "        password.append(random.choice(string.punctuation))\n",
    "\n",
    "        # Fill the rest with random choices until the specified length\n",
    "        for _ in range(pass_len.get() - 4):\n",
    "            password.append(random.choice(string.ascii_uppercase + string.ascii_lowercase + string.digits + string.punctuation))\n",
    "        \n",
    "        # Shuffle to ensure randomness\n",
    "        random.shuffle(password)\n",
    "    else:\n",
    "        # If length is less than 4, just fill the required length with random choices\n",
    "        for _ in range(pass_len.get()):\n",
    "            password.append(random.choice(string.ascii_uppercase + string.ascii_lowercase + string.digits + string.punctuation))\n",
    "    \n",
    "    # Convert list to string and set it to the variable\n",
    "    pass_str.set(''.join(password))\n",
    "\n",
    "\n",
    "\n",
    "def Copy_password():\n",
    "    pyperclip.copy(pass_str.get())\n",
    "\n",
    "Button(root, text='GENERATE PASSWORD', command=Generator).pack(pady=5)\n",
    "Entry(root, textvariable=pass_str).pack()\n",
    "Button(root, text='COPY TO CLIPBOARD', command=Copy_password).pack(pady=5)\n",
    "\n",
    "root.mainloop()"
   ]
  },
  {
   "cell_type": "code",
   "execution_count": null,
   "id": "3807985a-851e-47eb-a71e-5f2e797c1e46",
   "metadata": {},
   "outputs": [],
   "source": []
  }
 ],
 "metadata": {
  "kernelspec": {
   "display_name": "Python 3 (ipykernel)",
   "language": "python",
   "name": "python3"
  },
  "language_info": {
   "codemirror_mode": {
    "name": "ipython",
    "version": 3
   },
   "file_extension": ".py",
   "mimetype": "text/x-python",
   "name": "python",
   "nbconvert_exporter": "python",
   "pygments_lexer": "ipython3",
   "version": "3.11.7"
  }
 },
 "nbformat": 4,
 "nbformat_minor": 5
}
